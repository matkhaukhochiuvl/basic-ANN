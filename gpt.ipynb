{
 "cells": [
  {
   "cell_type": "code",
   "execution_count": 56,
   "metadata": {},
   "outputs": [
    {
     "ename": "TypeError",
     "evalue": "_vhstack_dispatcher() takes 1 positional argument but 2 were given",
     "output_type": "error",
     "traceback": [
      "\u001b[1;31m---------------------------------------------------------------------------\u001b[0m",
      "\u001b[1;31mTypeError\u001b[0m                                 Traceback (most recent call last)",
      "\u001b[1;32md:\\file apps\\python\\ann\\gpt.ipynb Cell 1\u001b[0m in \u001b[0;36m8\n\u001b[0;32m      <a href='vscode-notebook-cell:/d%3A/file%20apps/python/ann/gpt.ipynb#W0sZmlsZQ%3D%3D?line=5'>6</a>\u001b[0m a\u001b[39m=\u001b[39mnp\u001b[39m.\u001b[39marray([\u001b[39m1\u001b[39m,\u001b[39m2\u001b[39m])\n\u001b[0;32m      <a href='vscode-notebook-cell:/d%3A/file%20apps/python/ann/gpt.ipynb#W0sZmlsZQ%3D%3D?line=6'>7</a>\u001b[0m c\u001b[39m=\u001b[39mnp\u001b[39m.\u001b[39marray([\u001b[39m2\u001b[39m,\u001b[39m5\u001b[39m])\n\u001b[1;32m----> <a href='vscode-notebook-cell:/d%3A/file%20apps/python/ann/gpt.ipynb#W0sZmlsZQ%3D%3D?line=7'>8</a>\u001b[0m ab\u001b[39m=\u001b[39mnp\u001b[39m.\u001b[39;49mhstack(c,a)\n\u001b[0;32m      <a href='vscode-notebook-cell:/d%3A/file%20apps/python/ann/gpt.ipynb#W0sZmlsZQ%3D%3D?line=8'>9</a>\u001b[0m \u001b[39mprint\u001b[39m(ab)\n",
      "File \u001b[1;32m<__array_function__ internals>:179\u001b[0m, in \u001b[0;36mhstack\u001b[1;34m(*args, **kwargs)\u001b[0m\n",
      "\u001b[1;31mTypeError\u001b[0m: _vhstack_dispatcher() takes 1 positional argument but 2 were given"
     ]
    }
   ],
   "source": [
    "import numpy as np\n",
    "import pandas as pd\n",
    "\n",
    "o=input('hahah')\n",
    "\n",
    "a=np.array([1,2])\n",
    "c=np.array([2,5])\n",
    "ab=np.hstack(c,a)\n",
    "print(ab)"
   ]
  },
  {
   "cell_type": "code",
   "execution_count": 16,
   "metadata": {},
   "outputs": [
    {
     "name": "stdout",
     "output_type": "stream",
     "text": [
      "Accuracy on development set:  0.106\n",
      "[[-0.45052454  0.36070515  0.34046242  0.42310121 -0.48575308 -0.34543807\n",
      "   0.17081475  0.39122514  0.03060823  0.05279158 -0.065434  ]\n",
      " [-0.46235591  0.31797452 -0.08338054  0.43690555  0.34203619  0.0696993\n",
      "   0.27473127  0.37723505 -0.18603264 -0.27277783 -0.48726678]\n",
      " [-0.2085883  -0.05837532  0.08822981 -0.13942422  0.45866668  0.31314297\n",
      "  -0.39253681  0.37551179 -0.20096763  0.41579699  0.46876393]\n",
      " [ 0.27490193 -0.26021207  0.07966878  0.26436538 -0.4409988  -0.1353632\n",
      "   0.42386058 -0.05975868  0.34551109  0.04823307  0.34040517]\n",
      " [-0.29929646  0.0280902  -0.20405986 -0.37936843  0.23288874 -0.37741771\n",
      "   0.35621384  0.37772514  0.07351075  0.38578692 -0.38534786]\n",
      " [ 0.06700476 -0.04273295 -0.44726124  0.04655114 -0.16634735  0.06796671\n",
      "  -0.29360737  0.46984432  0.34402096  0.16885662 -0.49504342]\n",
      " [ 0.25959976 -0.13626663 -0.28380117  0.48946341 -0.4807031   0.28856011\n",
      "   0.26653313 -0.25023314 -0.25455407  0.23579987  0.0171541 ]\n",
      " [-0.01842237  0.38419319  0.46406584  0.20572577  0.15770912  0.23300292\n",
      "   0.01659288  0.09219355  0.31780909  0.12031487 -0.08639897]\n",
      " [ 0.37523158 -0.28855552 -0.30441699  0.33864026  0.05449553 -0.20390667\n",
      "  -0.37649675 -0.07969594  0.16449463 -0.05931189  0.07560489]\n",
      " [ 0.4608939   0.42330472  0.4954347  -0.0727585  -0.15303167 -0.05719205\n",
      "  -0.22545792  0.31315058  0.04680266  0.03460977  0.05548408]]\n"
     ]
    }
   ],
   "source": []
  }
 ],
 "metadata": {
  "kernelspec": {
   "display_name": "Python 3",
   "language": "python",
   "name": "python3"
  },
  "language_info": {
   "codemirror_mode": {
    "name": "ipython",
    "version": 3
   },
   "file_extension": ".py",
   "mimetype": "text/x-python",
   "name": "python",
   "nbconvert_exporter": "python",
   "pygments_lexer": "ipython3",
   "version": "3.10.10"
  },
  "orig_nbformat": 4
 },
 "nbformat": 4,
 "nbformat_minor": 2
}
