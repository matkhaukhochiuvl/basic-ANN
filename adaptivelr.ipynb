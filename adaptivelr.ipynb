{
 "cells": [
  {
   "cell_type": "code",
   "execution_count": 1,
   "metadata": {},
   "outputs": [],
   "source": [
    "import numpy as np\n",
    "import pandas as pd\n",
    "import matplotlib.pyplot as plt\n"
   ]
  },
  {
   "cell_type": "code",
   "execution_count": 2,
   "metadata": {},
   "outputs": [],
   "source": [
    "data = pd.read_csv('D:/download_D/digit-recognizer/train.csv')"
   ]
  },
  {
   "cell_type": "code",
   "execution_count": 3,
   "metadata": {},
   "outputs": [],
   "source": [
    "data=np.array(data)\n",
    "m,n=data.shape\n",
    "np.random.shuffle(data)\n",
    "\n",
    "data_train=data[1000:10000]\n",
    "X=data_train[:,1:]/255\n",
    "Y=data_train[:,0]\n"
   ]
  },
  {
   "cell_type": "code",
   "execution_count": 4,
   "metadata": {},
   "outputs": [
    {
     "data": {
      "text/plain": [
       "(9000, 784)"
      ]
     },
     "execution_count": 4,
     "metadata": {},
     "output_type": "execute_result"
    }
   ],
   "source": [
    "X.shape"
   ]
  },
  {
   "cell_type": "code",
   "execution_count": 5,
   "metadata": {},
   "outputs": [
    {
     "data": {
      "text/plain": [
       "(8100,)"
      ]
     },
     "execution_count": 5,
     "metadata": {},
     "output_type": "execute_result"
    }
   ],
   "source": [
    "X_val=X[:int(0.1*len(X))]\n",
    "Y_val=Y[:int(0.1*len(X))]\n",
    "X=X[int(0.1*len(X)):]\n",
    "Y=Y[int(0.1*len(Y)):]\n",
    "Y.shape"
   ]
  },
  {
   "cell_type": "code",
   "execution_count": 6,
   "metadata": {},
   "outputs": [],
   "source": [
    "def createW(hid_lay):\n",
    "    W=[]#list of weight\n",
    "    g=[]#list of gain\n",
    "    dW=[]#list of delta weight\n",
    "    W.append(np.random.rand(785,hid_lay[0])-0.5)\n",
    "    g.append(np.ones_like(W[0]))\n",
    "    dW.append(np.zeros_like(W[0]))\n",
    "    for i in range(len(hid_lay)-1):\n",
    "        W.append(np.random.rand(hid_lay[i]+1,hid_lay[i+1])-0.5)\n",
    "        g.append(np.ones_like(W[i+1]))\n",
    "        dW.append(np.zeros_like(W[i+1]))\n",
    "    W.append(np.random.rand(hid_lay[-1]+1,10)-0.5)\n",
    "    g.append(np.ones_like(W[-1]))\n",
    "    dW.append(np.zeros_like(W[-1]))\n",
    "    return W,g,dW"
   ]
  },
  {
   "cell_type": "code",
   "execution_count": 7,
   "metadata": {},
   "outputs": [],
   "source": [
    "def input_lay_nod():\n",
    "    hid_lay=[]\n",
    "    n_hidden=eval(input('nhap so hiden layer: '))\n",
    "    for hidden in range(1,n_hidden+1):\n",
    "        numnode=eval(input(f'nhap so node cua lop {hidden}'))\n",
    "        hid_lay.append(numnode)\n",
    "    return hid_lay\n"
   ]
  },
  {
   "cell_type": "code",
   "execution_count": 8,
   "metadata": {},
   "outputs": [],
   "source": [
    "def sigmoid(z):\n",
    "    y=1/(1+np.exp(-z))\n",
    "    return y"
   ]
  },
  {
   "cell_type": "code",
   "execution_count": 9,
   "metadata": {},
   "outputs": [],
   "source": [
    "def addBias(x):\n",
    "    bs=np.ones((len(x),1))\n",
    "    return np.concatenate((bs,x),axis=1)"
   ]
  },
  {
   "cell_type": "code",
   "execution_count": 10,
   "metadata": {},
   "outputs": [],
   "source": [
    "def makelayer(X,W):#(9000,785)\n",
    "    Z=np.matmul(X,W)\n",
    "    A=sigmoid(Z)\n",
    "    A=addBias(A)\n",
    "    return A"
   ]
  },
  {
   "cell_type": "code",
   "execution_count": 11,
   "metadata": {},
   "outputs": [],
   "source": [
    "def forward_prop(X,W,hid_lay):\n",
    "    Ai=[addBias(X)]\n",
    "    for num_lay in range(len(hid_lay)+1):\n",
    "        a=makelayer(Ai[num_lay],W[num_lay])\n",
    "        Ai.append(a)\n",
    "    return Ai"
   ]
  },
  {
   "cell_type": "code",
   "execution_count": 12,
   "metadata": {},
   "outputs": [],
   "source": [
    "def backward_prop(A,W,g,dW,Y,e):\n",
    "    dE_dW=[]\n",
    "    dE_dZ=(A[-1][:,1:]-Y)#(9000,10)\n",
    "    dE_dW.append(np.matmul(A[-2].transpose(),dE_dZ))#(101,9000)x(9000,10)\n",
    "    g[-1]=np.where(dE_dW[0]*dW[-1]<0,g[-1]*0.95,g[-1]+0.05)\n",
    "    dW[-1]=dE_dW[0]\n",
    "    W[-1]-=e*dE_dW[0]*g[-1]\n",
    "    #\n",
    "    dE_dA=np.matmul(dE_dZ,W[-1].transpose())#(9000,10)x(10,101)\n",
    "    dE_dZ=dE_dA*A[-2]*(1-A[-2])#(9000,101)\n",
    "    dE_dW.append(np.matmul(A[-3].transpose(),dE_dZ))\n",
    "    g[-2]=np.where(dE_dW[1][:,1:]*dW[-2]<0,g[-2]*0.95,g[-2]+0.05)\n",
    "    dW[-2]=dE_dW[1][:,1:]\n",
    "    W[-2]-=e*dE_dW[1][:,1:]*g[-2]\n",
    "    for i in range(2,len(W)):\n",
    "        dE_dZ=dE_dZ[:,1:]\n",
    "        dE_dA=np.matmul(dE_dZ,W[-i].transpose())#(9000,10)x(10,101)\n",
    "        dE_dZ=dE_dA*A[-i-1]*(1-A[-i-1])#(9000,101)\n",
    "        dE_dW.append(np.matmul(A[-i-2].transpose(),dE_dZ))\n",
    "        g[-1-i]=np.where(dE_dW[i][:,1:]*dW[-1-i]<0,g[-1-i]*0.95,g[-1-i]+0.05)\n",
    "        dW[-1-i]=dE_dW[i][:,1:]\n",
    "        W[-i-1]-=e*dE_dW[i][:,1:]*g[-1-i]\n",
    "    return W,g,dW,(Y-A[-1][:,1:])**2\n"
   ]
  },
  {
   "cell_type": "code",
   "execution_count": 13,
   "metadata": {},
   "outputs": [],
   "source": [
    "def makeLabel(num,num_class):\n",
    "    vec = np.zeros(num_class)\n",
    "    vec[num] = 1\n",
    "    return vec\n",
    "T = map(makeLabel,Y,[10]*len(Y))\n",
    "T = np.array(list(T))"
   ]
  },
  {
   "cell_type": "code",
   "execution_count": 14,
   "metadata": {},
   "outputs": [],
   "source": [
    "hid_lay=input_lay_nod()\n",
    "W,g,dW=createW(hid_lay)\n",
    "accu=np.array([[]])\n",
    "accu_val=np.array([[]])\n",
    "lost=np.array([[]])"
   ]
  },
  {
   "cell_type": "code",
   "execution_count": null,
   "metadata": {},
   "outputs": [],
   "source": [
    "\n",
    "for o in range(1,500):\n",
    "    A=forward_prop(X,W,hid_lay)\n",
    "    A_val=forward_prop(X_val,W,hid_lay)\n",
    "    pred=np.argmax(A[-1][:,1:],axis=1)\n",
    "    pred_val=np.argmax(A_val[-1][:,1:],axis=1)\n",
    "    exa=np.sum(pred==Y)\n",
    "    exa_val=np.sum(pred_val==Y_val)\n",
    "    print('acc',exa/len(X))\n",
    "    print('acc',exa_val/len(X_val))\n",
    "\n",
    "    W,g,dW,loss=backward_prop(A,W,g,dW,T,0.00003)\n",
    "    lot=np.sum(loss/len(X))\n",
    "    print('loss ',lot)\n",
    "    lot=np.array([[lot]])\n",
    "    acc=np.array([[exa/len(X)]])\n",
    "    acc_val=np.array([[exa_val/len(X_val)]])\n",
    "    lost=np.concatenate((lost,lot),axis=None)\n",
    "    accu=np.concatenate((accu,acc),axis=None)\n",
    "    accu_val=np.concatenate((accu_val,acc_val),axis=None)\n"
   ]
  },
  {
   "cell_type": "code",
   "execution_count": null,
   "metadata": {},
   "outputs": [],
   "source": [
    "for i in range(len(W)):\n",
    "    print(np.sqrt(np.sum(W[i]*W[i])))"
   ]
  },
  {
   "cell_type": "code",
   "execution_count": 19,
   "metadata": {},
   "outputs": [
    {
     "data": {
      "image/png": "[encoded data removed]",
      "text/plain": [
       "<Figure size 640x480 with 1 Axes>"
      ]
     },
     "metadata": {},
     "output_type": "display_data"
    }
   ],
   "source": [
    "\n",
    "plt.plot(accu)\n",
    "plt.plot(accu_val)\n",
    "plt.legend(['accuracy', 'accuracyval'])\n",
    "plt.show()\n",
    "\n"
   ]
  },
  {
   "cell_type": "code",
   "execution_count": 20,
   "metadata": {},
   "outputs": [
    {
     "data": {
      "image/png": "[encoded data removed]",
      "text/plain": [
       "<Figure size 640x480 with 1 Axes>"
      ]
     },
     "metadata": {},
     "output_type": "display_data"
    }
   ],
   "source": [
    "plt.plot(lost)\n",
    "plt.legend([ 'lost'])\n",
    "plt.show()"
   ]
  }
 ],
 "metadata": {
  "kernelspec": {
   "display_name": "Python 3",
   "language": "python",
   "name": "python3"
  },
  "language_info": {
   "codemirror_mode": {
    "name": "ipython",
    "version": 3
   },
   "file_extension": ".py",
   "mimetype": "text/x-python",
   "name": "python",
   "nbconvert_exporter": "python",
   "pygments_lexer": "ipython3",
   "version": "3.10.10"
  },
  "orig_nbformat": 4,
  "vscode": {
   "interpreter": {
    "hash": "e3a928b85d63b2ef9b6ccf12e8d329d0cbc7130b7b94533fcc116c9895f7d050"
   }
  }
 },
 "nbformat": 4,
 "nbformat_minor": 2
}
